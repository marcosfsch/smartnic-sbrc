{
 "cells": [
  {
   "cell_type": "markdown",
   "id": "1a1e564b-d78f-4d04-9fc2-59d2f50b2798",
   "metadata": {},
   "source": [
    "# Smart NIC with DPDK, VPP and Pktgen-DPDK\n",
    "\n",
    "DPDK is the Data Plane Development Kit that consists of libraries to accelerate packet processing workloads running on a wide variety of CPU architectures. It is designed to run on x86, POWER, and ARM processors and licensed under the Open-Source BSD License.\n",
    "\n",
    "VPP is a high performance network stack that provides different dataplanes (Linux, RDMA and DPDK) and can be used as vSwitches, vRouters, Gateways, Firewalls and Load-Balancers.\n",
    "Pktgen-DPDK is a reference traffic generator, capable of generating 100Gbps using a single CPU core\n",
    "\n",
    "This notebook depicts how to attach Smart NICs to DPDK and send traffic to the DPDK connected NICs via TRex."
   ]
  },
  {
   "cell_type": "code",
   "execution_count": 1,
   "id": "ca6db1a8-273d-4d10-9997-b7fab997068c",
   "metadata": {},
   "outputs": [
    {
     "data": {
      "text/html": [
       "<style type=\"text/css\">\n",
       "#T_56495 tr:nth-child(even) {\n",
       "  background: #dbf3ff;\n",
       "  color: #231f20;\n",
       "}\n",
       "#T_56495 tr:nth-child(odd) {\n",
       "  background: #ffffff;\n",
       "  color: #231f20;\n",
       "}\n",
       "#T_56495 caption {\n",
       "  text-align: center;\n",
       "  font-size: 150%;\n",
       "}\n",
       "#T_56495_row0_col0, #T_56495_row0_col1, #T_56495_row1_col0, #T_56495_row1_col1, #T_56495_row2_col0, #T_56495_row2_col1, #T_56495_row3_col0, #T_56495_row3_col1, #T_56495_row4_col0, #T_56495_row4_col1, #T_56495_row5_col0, #T_56495_row5_col1, #T_56495_row6_col0, #T_56495_row6_col1, #T_56495_row7_col0, #T_56495_row7_col1, #T_56495_row8_col0, #T_56495_row8_col1, #T_56495_row9_col0, #T_56495_row9_col1, #T_56495_row10_col0, #T_56495_row10_col1, #T_56495_row11_col0, #T_56495_row11_col1, #T_56495_row12_col0, #T_56495_row12_col1, #T_56495_row13_col0, #T_56495_row13_col1, #T_56495_row14_col0, #T_56495_row14_col1, #T_56495_row15_col0, #T_56495_row15_col1, #T_56495_row16_col0, #T_56495_row16_col1 {\n",
       "  text-align: left;\n",
       "  border: 1px #231f20 solid !important;\n",
       "  overwrite: False;\n",
       "}\n",
       "</style>\n",
       "<table id=\"T_56495\">\n",
       "  <caption>FABlib Config</caption>\n",
       "  <thead>\n",
       "  </thead>\n",
       "  <tbody>\n",
       "    <tr>\n",
       "      <td id=\"T_56495_row0_col0\" class=\"data row0 col0\" >Orchestrator</td>\n",
       "      <td id=\"T_56495_row0_col1\" class=\"data row0 col1\" >orchestrator.fabric-testbed.net</td>\n",
       "    </tr>\n",
       "    <tr>\n",
       "      <td id=\"T_56495_row1_col0\" class=\"data row1 col0\" >Credential Manager</td>\n",
       "      <td id=\"T_56495_row1_col1\" class=\"data row1 col1\" >cm.fabric-testbed.net</td>\n",
       "    </tr>\n",
       "    <tr>\n",
       "      <td id=\"T_56495_row2_col0\" class=\"data row2 col0\" >Core API</td>\n",
       "      <td id=\"T_56495_row2_col1\" class=\"data row2 col1\" >uis.fabric-testbed.net</td>\n",
       "    </tr>\n",
       "    <tr>\n",
       "      <td id=\"T_56495_row3_col0\" class=\"data row3 col0\" >Token File</td>\n",
       "      <td id=\"T_56495_row3_col1\" class=\"data row3 col1\" >/home/fabric/.tokens.json</td>\n",
       "    </tr>\n",
       "    <tr>\n",
       "      <td id=\"T_56495_row4_col0\" class=\"data row4 col0\" >Project ID</td>\n",
       "      <td id=\"T_56495_row4_col1\" class=\"data row4 col1\" >f1f5b0f8-0eef-40f3-940e-c4c8ff2d60ca</td>\n",
       "    </tr>\n",
       "    <tr>\n",
       "      <td id=\"T_56495_row5_col0\" class=\"data row5 col0\" >Bastion Host</td>\n",
       "      <td id=\"T_56495_row5_col1\" class=\"data row5 col1\" >bastion.fabric-testbed.net</td>\n",
       "    </tr>\n",
       "    <tr>\n",
       "      <td id=\"T_56495_row6_col0\" class=\"data row6 col0\" >Bastion Username</td>\n",
       "      <td id=\"T_56495_row6_col1\" class=\"data row6 col1\" >marcos_schwarz_0034669026</td>\n",
       "    </tr>\n",
       "    <tr>\n",
       "      <td id=\"T_56495_row7_col0\" class=\"data row7 col0\" >Bastion Private Key File</td>\n",
       "      <td id=\"T_56495_row7_col1\" class=\"data row7 col1\" >/home/fabric/work/fabric_config/fabric_bastion_key</td>\n",
       "    </tr>\n",
       "    <tr>\n",
       "      <td id=\"T_56495_row8_col0\" class=\"data row8 col0\" >Slice Public Key File</td>\n",
       "      <td id=\"T_56495_row8_col1\" class=\"data row8 col1\" >/home/fabric/work/fabric_config/slice_key.pub</td>\n",
       "    </tr>\n",
       "    <tr>\n",
       "      <td id=\"T_56495_row9_col0\" class=\"data row9 col0\" >Slice Private Key File</td>\n",
       "      <td id=\"T_56495_row9_col1\" class=\"data row9 col1\" >/home/fabric/work/fabric_config/slice_key</td>\n",
       "    </tr>\n",
       "    <tr>\n",
       "      <td id=\"T_56495_row10_col0\" class=\"data row10 col0\" >Sites to avoid</td>\n",
       "      <td id=\"T_56495_row10_col1\" class=\"data row10 col1\" ></td>\n",
       "    </tr>\n",
       "    <tr>\n",
       "      <td id=\"T_56495_row11_col0\" class=\"data row11 col0\" >SSH Command Line</td>\n",
       "      <td id=\"T_56495_row11_col1\" class=\"data row11 col1\" >ssh -i {{ _self_.private_ssh_key_file }} -F /home/fabric/work/fabric_config/ssh_config {{ _self_.username }}@{{ _self_.management_ip }}</td>\n",
       "    </tr>\n",
       "    <tr>\n",
       "      <td id=\"T_56495_row12_col0\" class=\"data row12 col0\" >Log Level</td>\n",
       "      <td id=\"T_56495_row12_col1\" class=\"data row12 col1\" >INFO</td>\n",
       "    </tr>\n",
       "    <tr>\n",
       "      <td id=\"T_56495_row13_col0\" class=\"data row13 col0\" >Log File</td>\n",
       "      <td id=\"T_56495_row13_col1\" class=\"data row13 col1\" >/tmp/fablib/fablib.log</td>\n",
       "    </tr>\n",
       "    <tr>\n",
       "      <td id=\"T_56495_row14_col0\" class=\"data row14 col0\" >Bastion SSH Config File</td>\n",
       "      <td id=\"T_56495_row14_col1\" class=\"data row14 col1\" >/home/fabric/work/fabric_config/ssh_config</td>\n",
       "    </tr>\n",
       "    <tr>\n",
       "      <td id=\"T_56495_row15_col0\" class=\"data row15 col0\" >Version</td>\n",
       "      <td id=\"T_56495_row15_col1\" class=\"data row15 col1\" >1.6.2</td>\n",
       "    </tr>\n",
       "    <tr>\n",
       "      <td id=\"T_56495_row16_col0\" class=\"data row16 col0\" >Data directory</td>\n",
       "      <td id=\"T_56495_row16_col1\" class=\"data row16 col1\" >/tmp/fablib</td>\n",
       "    </tr>\n",
       "  </tbody>\n",
       "</table>\n"
      ],
      "text/plain": [
       "<pandas.io.formats.style.Styler at 0x7f514ee4e050>"
      ]
     },
     "metadata": {},
     "output_type": "display_data"
    }
   ],
   "source": [
    "from ipaddress import ip_address, IPv4Address, IPv6Address, IPv4Network, IPv6Network\n",
    "import ipaddress\n",
    "\n",
    "from fabrictestbed_extensions.fablib.fablib import FablibManager as fablib_manager\n",
    "\n",
    "fablib = fablib_manager()\n",
    "                     \n",
    "fablib.show_config();"
   ]
  },
  {
   "cell_type": "markdown",
   "id": "395a86d5-a065-4074-85c2-5c05fab3d701",
   "metadata": {},
   "source": [
    "## Create the Experiment Slice\n",
    "\n",
    "The following creates two nodes with NIC_ConnectX_6/NIC_ConnectX_5 NICs connected to an isolated local Ethernet. \n",
    "- `vpp-node`: with one port connected to local L2 network. We will run VPP application here\n",
    "- `pktgen-node`: with one port connected to local L2 network. We wull run DPDK Packet Generator her \n",
    "\n",
    "In addition to local L2 network, each node is connected to FABNETv4 to be able to download the drivers from the Storage Node.\n",
    "\n",
    "<img src=\"./images/dpdk-pktgen-smart-nic.png\"><br>"
   ]
  },
  {
   "cell_type": "code",
   "execution_count": 2,
   "id": "d30d4a94-2251-493c-83e8-55bda78ed0ac",
   "metadata": {},
   "outputs": [
    {
     "name": "stdout",
     "output_type": "stream",
     "text": [
      "Site: AMST\n"
     ]
    }
   ],
   "source": [
    "slice_name = 'MySlice-dpdk'\n",
    "site = fablib.get_random_site(filter_function=lambda x: x['nic_connectx_6_available'])\n",
    "print(f\"Site: {site}\")\n",
    "\n",
    "vpp_node_name = 'vpp-node'\n",
    "pktgen_node_name = 'pktgen-node'\n",
    "\n",
    "image_name = \"docker_ubuntu_22\""
   ]
  },
  {
   "cell_type": "code",
   "execution_count": 3,
   "id": "1689f4a2-a077-4a06-aa0c-802b9243fa2b",
   "metadata": {},
   "outputs": [
    {
     "name": "stdout",
     "output_type": "stream",
     "text": [
      "\n",
      "Retry: 29, Time: 749 sec\n"
     ]
    },
    {
     "data": {
      "text/html": [
       "<style type=\"text/css\">\n",
       "#T_1df00 tr:nth-child(even) {\n",
       "  background: #dbf3ff;\n",
       "  color: #231f20;\n",
       "}\n",
       "#T_1df00 tr:nth-child(odd) {\n",
       "  background: #ffffff;\n",
       "  color: #231f20;\n",
       "}\n",
       "#T_1df00 caption {\n",
       "  text-align: center;\n",
       "  font-size: 150%;\n",
       "}\n",
       "#T_1df00_row0_col0, #T_1df00_row0_col1, #T_1df00_row1_col0, #T_1df00_row1_col1, #T_1df00_row2_col0, #T_1df00_row2_col1, #T_1df00_row3_col0, #T_1df00_row3_col1, #T_1df00_row4_col0, #T_1df00_row4_col1, #T_1df00_row5_col0 {\n",
       "  text-align: left;\n",
       "  border: 1px #231f20 solid !important;\n",
       "  overwrite: False;\n",
       "  background-color: ;\n",
       "}\n",
       "#T_1df00_row5_col1 {\n",
       "  text-align: left;\n",
       "  border: 1px #231f20 solid !important;\n",
       "  overwrite: False;\n",
       "  background-color: #c3ffc4;\n",
       "}\n",
       "</style>\n",
       "<table id=\"T_1df00\">\n",
       "  <caption>Slice</caption>\n",
       "  <thead>\n",
       "  </thead>\n",
       "  <tbody>\n",
       "    <tr>\n",
       "      <td id=\"T_1df00_row0_col0\" class=\"data row0 col0\" >ID</td>\n",
       "      <td id=\"T_1df00_row0_col1\" class=\"data row0 col1\" >cc138509-0880-4028-b494-303ca616414a</td>\n",
       "    </tr>\n",
       "    <tr>\n",
       "      <td id=\"T_1df00_row1_col0\" class=\"data row1 col0\" >Name</td>\n",
       "      <td id=\"T_1df00_row1_col1\" class=\"data row1 col1\" >MySlice-dpdk</td>\n",
       "    </tr>\n",
       "    <tr>\n",
       "      <td id=\"T_1df00_row2_col0\" class=\"data row2 col0\" >Lease Expiration (UTC)</td>\n",
       "      <td id=\"T_1df00_row2_col1\" class=\"data row2 col1\" >2024-04-26 14:39:37 +0000</td>\n",
       "    </tr>\n",
       "    <tr>\n",
       "      <td id=\"T_1df00_row3_col0\" class=\"data row3 col0\" >Lease Start (UTC)</td>\n",
       "      <td id=\"T_1df00_row3_col1\" class=\"data row3 col1\" >2024-04-25 14:39:38 +0000</td>\n",
       "    </tr>\n",
       "    <tr>\n",
       "      <td id=\"T_1df00_row4_col0\" class=\"data row4 col0\" >Project ID</td>\n",
       "      <td id=\"T_1df00_row4_col1\" class=\"data row4 col1\" >f1f5b0f8-0eef-40f3-940e-c4c8ff2d60ca</td>\n",
       "    </tr>\n",
       "    <tr>\n",
       "      <td id=\"T_1df00_row5_col0\" class=\"data row5 col0\" >State</td>\n",
       "      <td id=\"T_1df00_row5_col1\" class=\"data row5 col1\" >StableOK</td>\n",
       "    </tr>\n",
       "  </tbody>\n",
       "</table>\n"
      ],
      "text/plain": [
       "<pandas.io.formats.style.Styler at 0x7f50dafb18a0>"
      ]
     },
     "metadata": {},
     "output_type": "display_data"
    },
    {
     "data": {
      "text/html": [
       "<style type=\"text/css\">\n",
       "#T_6f4a1 caption {\n",
       "  text-align: center;\n",
       "  font-size: 150%;\n",
       "  caption-side: top;\n",
       "}\n",
       "#T_6f4a1 th {\n",
       "  text-align: left;\n",
       "}\n",
       "#T_6f4a1 tr:nth-child(even) {\n",
       "  background: #ffffff;\n",
       "  color: #231f20;\n",
       "}\n",
       "#T_6f4a1 tr:nth-child(odd) {\n",
       "  background: #dbf3ff;\n",
       "  color: #231f20;\n",
       "}\n",
       "#T_6f4a1 .level0 {\n",
       "  border: 1px black solid !important;\n",
       "  background: #ffffff;\n",
       "  color: #231f20;\n",
       "}\n",
       "#T_6f4a1_row0_col0, #T_6f4a1_row0_col1, #T_6f4a1_row0_col2, #T_6f4a1_row0_col3, #T_6f4a1_row0_col4, #T_6f4a1_row0_col5, #T_6f4a1_row0_col6, #T_6f4a1_row0_col7, #T_6f4a1_row0_col8, #T_6f4a1_row0_col9, #T_6f4a1_row0_col10, #T_6f4a1_row0_col13, #T_6f4a1_row0_col14, #T_6f4a1_row0_col15, #T_6f4a1_row1_col0, #T_6f4a1_row1_col1, #T_6f4a1_row1_col2, #T_6f4a1_row1_col3, #T_6f4a1_row1_col4, #T_6f4a1_row1_col5, #T_6f4a1_row1_col6, #T_6f4a1_row1_col7, #T_6f4a1_row1_col8, #T_6f4a1_row1_col9, #T_6f4a1_row1_col10, #T_6f4a1_row1_col13, #T_6f4a1_row1_col14, #T_6f4a1_row1_col15 {\n",
       "  text-align: left;\n",
       "  border: 1px #231f20 solid !important;\n",
       "  overwrite: False;\n",
       "}\n",
       "#T_6f4a1_row0_col11, #T_6f4a1_row1_col11 {\n",
       "  text-align: left;\n",
       "  border: 1px #231f20 solid !important;\n",
       "  overwrite: False;\n",
       "  background-color: #c3ffc4;\n",
       "}\n",
       "#T_6f4a1_row0_col12, #T_6f4a1_row1_col12 {\n",
       "  text-align: left;\n",
       "  border: 1px #231f20 solid !important;\n",
       "  overwrite: False;\n",
       "  background-color: ;\n",
       "}\n",
       "</style>\n",
       "<table id=\"T_6f4a1\">\n",
       "  <caption>Nodes</caption>\n",
       "  <thead>\n",
       "    <tr>\n",
       "      <th id=\"T_6f4a1_level0_col0\" class=\"col_heading level0 col0\" >ID</th>\n",
       "      <th id=\"T_6f4a1_level0_col1\" class=\"col_heading level0 col1\" >Name</th>\n",
       "      <th id=\"T_6f4a1_level0_col2\" class=\"col_heading level0 col2\" >Cores</th>\n",
       "      <th id=\"T_6f4a1_level0_col3\" class=\"col_heading level0 col3\" >RAM</th>\n",
       "      <th id=\"T_6f4a1_level0_col4\" class=\"col_heading level0 col4\" >Disk</th>\n",
       "      <th id=\"T_6f4a1_level0_col5\" class=\"col_heading level0 col5\" >Image</th>\n",
       "      <th id=\"T_6f4a1_level0_col6\" class=\"col_heading level0 col6\" >Image Type</th>\n",
       "      <th id=\"T_6f4a1_level0_col7\" class=\"col_heading level0 col7\" >Host</th>\n",
       "      <th id=\"T_6f4a1_level0_col8\" class=\"col_heading level0 col8\" >Site</th>\n",
       "      <th id=\"T_6f4a1_level0_col9\" class=\"col_heading level0 col9\" >Username</th>\n",
       "      <th id=\"T_6f4a1_level0_col10\" class=\"col_heading level0 col10\" >Management IP</th>\n",
       "      <th id=\"T_6f4a1_level0_col11\" class=\"col_heading level0 col11\" >State</th>\n",
       "      <th id=\"T_6f4a1_level0_col12\" class=\"col_heading level0 col12\" >Error</th>\n",
       "      <th id=\"T_6f4a1_level0_col13\" class=\"col_heading level0 col13\" >SSH Command</th>\n",
       "      <th id=\"T_6f4a1_level0_col14\" class=\"col_heading level0 col14\" >Public SSH Key File</th>\n",
       "      <th id=\"T_6f4a1_level0_col15\" class=\"col_heading level0 col15\" >Private SSH Key File</th>\n",
       "    </tr>\n",
       "  </thead>\n",
       "  <tbody>\n",
       "    <tr>\n",
       "      <td id=\"T_6f4a1_row0_col0\" class=\"data row0 col0\" >8d55177f-be3c-4575-aa3d-9ba9ffbcc00c</td>\n",
       "      <td id=\"T_6f4a1_row0_col1\" class=\"data row0 col1\" >pktgen-node</td>\n",
       "      <td id=\"T_6f4a1_row0_col2\" class=\"data row0 col2\" >8</td>\n",
       "      <td id=\"T_6f4a1_row0_col3\" class=\"data row0 col3\" >16</td>\n",
       "      <td id=\"T_6f4a1_row0_col4\" class=\"data row0 col4\" >100</td>\n",
       "      <td id=\"T_6f4a1_row0_col5\" class=\"data row0 col5\" >docker_ubuntu_22</td>\n",
       "      <td id=\"T_6f4a1_row0_col6\" class=\"data row0 col6\" >qcow2</td>\n",
       "      <td id=\"T_6f4a1_row0_col7\" class=\"data row0 col7\" >amst-w2.fabric-testbed.net</td>\n",
       "      <td id=\"T_6f4a1_row0_col8\" class=\"data row0 col8\" >AMST</td>\n",
       "      <td id=\"T_6f4a1_row0_col9\" class=\"data row0 col9\" >ubuntu</td>\n",
       "      <td id=\"T_6f4a1_row0_col10\" class=\"data row0 col10\" >2001:610:2d0:fabc:f816:3eff:fef3:b197</td>\n",
       "      <td id=\"T_6f4a1_row0_col11\" class=\"data row0 col11\" >Active</td>\n",
       "      <td id=\"T_6f4a1_row0_col12\" class=\"data row0 col12\" ></td>\n",
       "      <td id=\"T_6f4a1_row0_col13\" class=\"data row0 col13\" >ssh -i /home/fabric/work/fabric_config/slice_key -F /home/fabric/work/fabric_config/ssh_config ubuntu@2001:610:2d0:fabc:f816:3eff:fef3:b197</td>\n",
       "      <td id=\"T_6f4a1_row0_col14\" class=\"data row0 col14\" >/home/fabric/work/fabric_config/slice_key.pub</td>\n",
       "      <td id=\"T_6f4a1_row0_col15\" class=\"data row0 col15\" >/home/fabric/work/fabric_config/slice_key</td>\n",
       "    </tr>\n",
       "    <tr>\n",
       "      <td id=\"T_6f4a1_row1_col0\" class=\"data row1 col0\" >521d241a-de28-4ee0-b98f-df5ff95110eb</td>\n",
       "      <td id=\"T_6f4a1_row1_col1\" class=\"data row1 col1\" >vpp-node</td>\n",
       "      <td id=\"T_6f4a1_row1_col2\" class=\"data row1 col2\" >8</td>\n",
       "      <td id=\"T_6f4a1_row1_col3\" class=\"data row1 col3\" >16</td>\n",
       "      <td id=\"T_6f4a1_row1_col4\" class=\"data row1 col4\" >100</td>\n",
       "      <td id=\"T_6f4a1_row1_col5\" class=\"data row1 col5\" >docker_ubuntu_22</td>\n",
       "      <td id=\"T_6f4a1_row1_col6\" class=\"data row1 col6\" >qcow2</td>\n",
       "      <td id=\"T_6f4a1_row1_col7\" class=\"data row1 col7\" >amst-w2.fabric-testbed.net</td>\n",
       "      <td id=\"T_6f4a1_row1_col8\" class=\"data row1 col8\" >AMST</td>\n",
       "      <td id=\"T_6f4a1_row1_col9\" class=\"data row1 col9\" >ubuntu</td>\n",
       "      <td id=\"T_6f4a1_row1_col10\" class=\"data row1 col10\" >2001:610:2d0:fabc:f816:3eff:fe7a:6a9a</td>\n",
       "      <td id=\"T_6f4a1_row1_col11\" class=\"data row1 col11\" >Active</td>\n",
       "      <td id=\"T_6f4a1_row1_col12\" class=\"data row1 col12\" ></td>\n",
       "      <td id=\"T_6f4a1_row1_col13\" class=\"data row1 col13\" >ssh -i /home/fabric/work/fabric_config/slice_key -F /home/fabric/work/fabric_config/ssh_config ubuntu@2001:610:2d0:fabc:f816:3eff:fe7a:6a9a</td>\n",
       "      <td id=\"T_6f4a1_row1_col14\" class=\"data row1 col14\" >/home/fabric/work/fabric_config/slice_key.pub</td>\n",
       "      <td id=\"T_6f4a1_row1_col15\" class=\"data row1 col15\" >/home/fabric/work/fabric_config/slice_key</td>\n",
       "    </tr>\n",
       "  </tbody>\n",
       "</table>\n"
      ],
      "text/plain": [
       "<pandas.io.formats.style.Styler at 0x7f50da490ee0>"
      ]
     },
     "metadata": {},
     "output_type": "display_data"
    },
    {
     "data": {
      "text/html": [
       "<style type=\"text/css\">\n",
       "#T_29e98 caption {\n",
       "  text-align: center;\n",
       "  font-size: 150%;\n",
       "  caption-side: top;\n",
       "}\n",
       "#T_29e98 th {\n",
       "  text-align: left;\n",
       "}\n",
       "#T_29e98 tr:nth-child(even) {\n",
       "  background: #ffffff;\n",
       "  color: #231f20;\n",
       "}\n",
       "#T_29e98 tr:nth-child(odd) {\n",
       "  background: #dbf3ff;\n",
       "  color: #231f20;\n",
       "}\n",
       "#T_29e98 .level0 {\n",
       "  border: 1px black solid !important;\n",
       "  background: #ffffff;\n",
       "  color: #231f20;\n",
       "}\n",
       "#T_29e98_row0_col0, #T_29e98_row0_col1, #T_29e98_row0_col2, #T_29e98_row0_col3, #T_29e98_row0_col4, #T_29e98_row0_col5, #T_29e98_row0_col6, #T_29e98_row1_col0, #T_29e98_row1_col1, #T_29e98_row1_col2, #T_29e98_row1_col3, #T_29e98_row1_col4, #T_29e98_row1_col5, #T_29e98_row1_col6, #T_29e98_row2_col0, #T_29e98_row2_col1, #T_29e98_row2_col2, #T_29e98_row2_col3, #T_29e98_row2_col4, #T_29e98_row2_col5, #T_29e98_row2_col6 {\n",
       "  text-align: left;\n",
       "  border: 1px #231f20 solid !important;\n",
       "  overwrite: False;\n",
       "}\n",
       "#T_29e98_row0_col7, #T_29e98_row1_col7, #T_29e98_row2_col7 {\n",
       "  text-align: left;\n",
       "  border: 1px #231f20 solid !important;\n",
       "  overwrite: False;\n",
       "  background-color: #c3ffc4;\n",
       "}\n",
       "#T_29e98_row0_col8, #T_29e98_row1_col8, #T_29e98_row2_col8 {\n",
       "  text-align: left;\n",
       "  border: 1px #231f20 solid !important;\n",
       "  overwrite: False;\n",
       "  background-color: ;\n",
       "}\n",
       "</style>\n",
       "<table id=\"T_29e98\">\n",
       "  <caption>Networks</caption>\n",
       "  <thead>\n",
       "    <tr>\n",
       "      <th id=\"T_29e98_level0_col0\" class=\"col_heading level0 col0\" >ID</th>\n",
       "      <th id=\"T_29e98_level0_col1\" class=\"col_heading level0 col1\" >Name</th>\n",
       "      <th id=\"T_29e98_level0_col2\" class=\"col_heading level0 col2\" >Layer</th>\n",
       "      <th id=\"T_29e98_level0_col3\" class=\"col_heading level0 col3\" >Type</th>\n",
       "      <th id=\"T_29e98_level0_col4\" class=\"col_heading level0 col4\" >Site</th>\n",
       "      <th id=\"T_29e98_level0_col5\" class=\"col_heading level0 col5\" >Subnet</th>\n",
       "      <th id=\"T_29e98_level0_col6\" class=\"col_heading level0 col6\" >Gateway</th>\n",
       "      <th id=\"T_29e98_level0_col7\" class=\"col_heading level0 col7\" >State</th>\n",
       "      <th id=\"T_29e98_level0_col8\" class=\"col_heading level0 col8\" >Error</th>\n",
       "    </tr>\n",
       "  </thead>\n",
       "  <tbody>\n",
       "    <tr>\n",
       "      <td id=\"T_29e98_row0_col0\" class=\"data row0 col0\" >111d7c94-c3cf-486d-95ec-79ff22c5826c</td>\n",
       "      <td id=\"T_29e98_row0_col1\" class=\"data row0 col1\" >FABNET_IPv4_AMST</td>\n",
       "      <td id=\"T_29e98_row0_col2\" class=\"data row0 col2\" >L3</td>\n",
       "      <td id=\"T_29e98_row0_col3\" class=\"data row0 col3\" >FABNetv4</td>\n",
       "      <td id=\"T_29e98_row0_col4\" class=\"data row0 col4\" >AMST</td>\n",
       "      <td id=\"T_29e98_row0_col5\" class=\"data row0 col5\" >10.145.20.0/24</td>\n",
       "      <td id=\"T_29e98_row0_col6\" class=\"data row0 col6\" >10.145.20.1</td>\n",
       "      <td id=\"T_29e98_row0_col7\" class=\"data row0 col7\" >Active</td>\n",
       "      <td id=\"T_29e98_row0_col8\" class=\"data row0 col8\" ></td>\n",
       "    </tr>\n",
       "    <tr>\n",
       "      <td id=\"T_29e98_row1_col0\" class=\"data row1 col0\" >d4247242-7ca9-44f3-8400-05f4c3dffce9</td>\n",
       "      <td id=\"T_29e98_row1_col1\" class=\"data row1 col1\" >net1</td>\n",
       "      <td id=\"T_29e98_row1_col2\" class=\"data row1 col2\" >L2</td>\n",
       "      <td id=\"T_29e98_row1_col3\" class=\"data row1 col3\" >L2Bridge</td>\n",
       "      <td id=\"T_29e98_row1_col4\" class=\"data row1 col4\" >AMST</td>\n",
       "      <td id=\"T_29e98_row1_col5\" class=\"data row1 col5\" >192.168.0.0/24</td>\n",
       "      <td id=\"T_29e98_row1_col6\" class=\"data row1 col6\" >None</td>\n",
       "      <td id=\"T_29e98_row1_col7\" class=\"data row1 col7\" >Active</td>\n",
       "      <td id=\"T_29e98_row1_col8\" class=\"data row1 col8\" ></td>\n",
       "    </tr>\n",
       "    <tr>\n",
       "      <td id=\"T_29e98_row2_col0\" class=\"data row2 col0\" >c21f341c-3b96-4d64-9897-332131623f66</td>\n",
       "      <td id=\"T_29e98_row2_col1\" class=\"data row2 col1\" >net2</td>\n",
       "      <td id=\"T_29e98_row2_col2\" class=\"data row2 col2\" >L2</td>\n",
       "      <td id=\"T_29e98_row2_col3\" class=\"data row2 col3\" >L2Bridge</td>\n",
       "      <td id=\"T_29e98_row2_col4\" class=\"data row2 col4\" >AMST</td>\n",
       "      <td id=\"T_29e98_row2_col5\" class=\"data row2 col5\" >192.168.1.0/24</td>\n",
       "      <td id=\"T_29e98_row2_col6\" class=\"data row2 col6\" >None</td>\n",
       "      <td id=\"T_29e98_row2_col7\" class=\"data row2 col7\" >Active</td>\n",
       "      <td id=\"T_29e98_row2_col8\" class=\"data row2 col8\" ></td>\n",
       "    </tr>\n",
       "  </tbody>\n",
       "</table>\n"
      ],
      "text/plain": [
       "<pandas.io.formats.style.Styler at 0x7f5119faee60>"
      ]
     },
     "metadata": {},
     "output_type": "display_data"
    },
    {
     "data": {
      "text/html": [
       "<style type=\"text/css\">\n",
       "#T_f29e0 caption {\n",
       "  text-align: center;\n",
       "  font-size: 150%;\n",
       "  caption-side: top;\n",
       "}\n",
       "#T_f29e0 th {\n",
       "  text-align: left;\n",
       "}\n",
       "#T_f29e0 tr:nth-child(even) {\n",
       "  background: #ffffff;\n",
       "  color: #231f20;\n",
       "}\n",
       "#T_f29e0 tr:nth-child(odd) {\n",
       "  background: #dbf3ff;\n",
       "  color: #231f20;\n",
       "}\n",
       "#T_f29e0 .level0 {\n",
       "  border: 1px black solid !important;\n",
       "  background: #ffffff;\n",
       "  color: #231f20;\n",
       "}\n",
       "#T_f29e0_row0_col0, #T_f29e0_row0_col1, #T_f29e0_row0_col2, #T_f29e0_row0_col3, #T_f29e0_row0_col4, #T_f29e0_row0_col5, #T_f29e0_row0_col6, #T_f29e0_row0_col7, #T_f29e0_row0_col8, #T_f29e0_row0_col9, #T_f29e0_row0_col10, #T_f29e0_row0_col11, #T_f29e0_row1_col0, #T_f29e0_row1_col1, #T_f29e0_row1_col2, #T_f29e0_row1_col3, #T_f29e0_row1_col4, #T_f29e0_row1_col5, #T_f29e0_row1_col6, #T_f29e0_row1_col7, #T_f29e0_row1_col8, #T_f29e0_row1_col9, #T_f29e0_row1_col10, #T_f29e0_row1_col11, #T_f29e0_row2_col0, #T_f29e0_row2_col1, #T_f29e0_row2_col2, #T_f29e0_row2_col3, #T_f29e0_row2_col4, #T_f29e0_row2_col5, #T_f29e0_row2_col6, #T_f29e0_row2_col7, #T_f29e0_row2_col8, #T_f29e0_row2_col9, #T_f29e0_row2_col10, #T_f29e0_row2_col11, #T_f29e0_row3_col0, #T_f29e0_row3_col1, #T_f29e0_row3_col2, #T_f29e0_row3_col3, #T_f29e0_row3_col4, #T_f29e0_row3_col5, #T_f29e0_row3_col6, #T_f29e0_row3_col7, #T_f29e0_row3_col8, #T_f29e0_row3_col9, #T_f29e0_row3_col10, #T_f29e0_row3_col11, #T_f29e0_row4_col0, #T_f29e0_row4_col1, #T_f29e0_row4_col2, #T_f29e0_row4_col3, #T_f29e0_row4_col4, #T_f29e0_row4_col5, #T_f29e0_row4_col6, #T_f29e0_row4_col7, #T_f29e0_row4_col8, #T_f29e0_row4_col9, #T_f29e0_row4_col10, #T_f29e0_row4_col11, #T_f29e0_row5_col0, #T_f29e0_row5_col1, #T_f29e0_row5_col2, #T_f29e0_row5_col3, #T_f29e0_row5_col4, #T_f29e0_row5_col5, #T_f29e0_row5_col6, #T_f29e0_row5_col7, #T_f29e0_row5_col8, #T_f29e0_row5_col9, #T_f29e0_row5_col10, #T_f29e0_row5_col11 {\n",
       "  text-align: left;\n",
       "  border: 1px #231f20 solid !important;\n",
       "  overwrite: False;\n",
       "}\n",
       "</style>\n",
       "<table id=\"T_f29e0\">\n",
       "  <caption>Interfaces</caption>\n",
       "  <thead>\n",
       "    <tr>\n",
       "      <th id=\"T_f29e0_level0_col0\" class=\"col_heading level0 col0\" >Name</th>\n",
       "      <th id=\"T_f29e0_level0_col1\" class=\"col_heading level0 col1\" >Short Name</th>\n",
       "      <th id=\"T_f29e0_level0_col2\" class=\"col_heading level0 col2\" >Node</th>\n",
       "      <th id=\"T_f29e0_level0_col3\" class=\"col_heading level0 col3\" >Network</th>\n",
       "      <th id=\"T_f29e0_level0_col4\" class=\"col_heading level0 col4\" >Bandwidth</th>\n",
       "      <th id=\"T_f29e0_level0_col5\" class=\"col_heading level0 col5\" >Mode</th>\n",
       "      <th id=\"T_f29e0_level0_col6\" class=\"col_heading level0 col6\" >VLAN</th>\n",
       "      <th id=\"T_f29e0_level0_col7\" class=\"col_heading level0 col7\" >MAC</th>\n",
       "      <th id=\"T_f29e0_level0_col8\" class=\"col_heading level0 col8\" >Physical Device</th>\n",
       "      <th id=\"T_f29e0_level0_col9\" class=\"col_heading level0 col9\" >Device</th>\n",
       "      <th id=\"T_f29e0_level0_col10\" class=\"col_heading level0 col10\" >IP Address</th>\n",
       "      <th id=\"T_f29e0_level0_col11\" class=\"col_heading level0 col11\" >Numa Node</th>\n",
       "    </tr>\n",
       "  </thead>\n",
       "  <tbody>\n",
       "    <tr>\n",
       "      <td id=\"T_f29e0_row0_col0\" class=\"data row0 col0\" >pktgen-node-nic1-p1</td>\n",
       "      <td id=\"T_f29e0_row0_col1\" class=\"data row0 col1\" >p1</td>\n",
       "      <td id=\"T_f29e0_row0_col2\" class=\"data row0 col2\" >pktgen-node</td>\n",
       "      <td id=\"T_f29e0_row0_col3\" class=\"data row0 col3\" >net1</td>\n",
       "      <td id=\"T_f29e0_row0_col4\" class=\"data row0 col4\" >100</td>\n",
       "      <td id=\"T_f29e0_row0_col5\" class=\"data row0 col5\" >auto</td>\n",
       "      <td id=\"T_f29e0_row0_col6\" class=\"data row0 col6\" ></td>\n",
       "      <td id=\"T_f29e0_row0_col7\" class=\"data row0 col7\" >10:70:FD:E5:E7:08</td>\n",
       "      <td id=\"T_f29e0_row0_col8\" class=\"data row0 col8\" >enp7s0np0</td>\n",
       "      <td id=\"T_f29e0_row0_col9\" class=\"data row0 col9\" >enp7s0np0</td>\n",
       "      <td id=\"T_f29e0_row0_col10\" class=\"data row0 col10\" >192.168.0.2</td>\n",
       "      <td id=\"T_f29e0_row0_col11\" class=\"data row0 col11\" >1</td>\n",
       "    </tr>\n",
       "    <tr>\n",
       "      <td id=\"T_f29e0_row1_col0\" class=\"data row1 col0\" >pktgen-node-nic1-p2</td>\n",
       "      <td id=\"T_f29e0_row1_col1\" class=\"data row1 col1\" >p2</td>\n",
       "      <td id=\"T_f29e0_row1_col2\" class=\"data row1 col2\" >pktgen-node</td>\n",
       "      <td id=\"T_f29e0_row1_col3\" class=\"data row1 col3\" >net2</td>\n",
       "      <td id=\"T_f29e0_row1_col4\" class=\"data row1 col4\" >100</td>\n",
       "      <td id=\"T_f29e0_row1_col5\" class=\"data row1 col5\" >auto</td>\n",
       "      <td id=\"T_f29e0_row1_col6\" class=\"data row1 col6\" ></td>\n",
       "      <td id=\"T_f29e0_row1_col7\" class=\"data row1 col7\" >10:70:FD:E5:E7:09</td>\n",
       "      <td id=\"T_f29e0_row1_col8\" class=\"data row1 col8\" >enp8s0np0</td>\n",
       "      <td id=\"T_f29e0_row1_col9\" class=\"data row1 col9\" >enp8s0np0</td>\n",
       "      <td id=\"T_f29e0_row1_col10\" class=\"data row1 col10\" >192.168.1.1</td>\n",
       "      <td id=\"T_f29e0_row1_col11\" class=\"data row1 col11\" >1</td>\n",
       "    </tr>\n",
       "    <tr>\n",
       "      <td id=\"T_f29e0_row2_col0\" class=\"data row2 col0\" >pktgen-node-FABNET_IPv4_AMST_nic-p1</td>\n",
       "      <td id=\"T_f29e0_row2_col1\" class=\"data row2 col1\" >p1</td>\n",
       "      <td id=\"T_f29e0_row2_col2\" class=\"data row2 col2\" >pktgen-node</td>\n",
       "      <td id=\"T_f29e0_row2_col3\" class=\"data row2 col3\" >FABNET_IPv4_AMST</td>\n",
       "      <td id=\"T_f29e0_row2_col4\" class=\"data row2 col4\" >100</td>\n",
       "      <td id=\"T_f29e0_row2_col5\" class=\"data row2 col5\" >auto</td>\n",
       "      <td id=\"T_f29e0_row2_col6\" class=\"data row2 col6\" ></td>\n",
       "      <td id=\"T_f29e0_row2_col7\" class=\"data row2 col7\" >02:DC:6F:4E:57:AF</td>\n",
       "      <td id=\"T_f29e0_row2_col8\" class=\"data row2 col8\" >enp9s0</td>\n",
       "      <td id=\"T_f29e0_row2_col9\" class=\"data row2 col9\" >enp9s0</td>\n",
       "      <td id=\"T_f29e0_row2_col10\" class=\"data row2 col10\" >10.145.20.2</td>\n",
       "      <td id=\"T_f29e0_row2_col11\" class=\"data row2 col11\" >4</td>\n",
       "    </tr>\n",
       "    <tr>\n",
       "      <td id=\"T_f29e0_row3_col0\" class=\"data row3 col0\" >vpp-node-nic1-p1</td>\n",
       "      <td id=\"T_f29e0_row3_col1\" class=\"data row3 col1\" >p1</td>\n",
       "      <td id=\"T_f29e0_row3_col2\" class=\"data row3 col2\" >vpp-node</td>\n",
       "      <td id=\"T_f29e0_row3_col3\" class=\"data row3 col3\" >net1</td>\n",
       "      <td id=\"T_f29e0_row3_col4\" class=\"data row3 col4\" >100</td>\n",
       "      <td id=\"T_f29e0_row3_col5\" class=\"data row3 col5\" >auto</td>\n",
       "      <td id=\"T_f29e0_row3_col6\" class=\"data row3 col6\" ></td>\n",
       "      <td id=\"T_f29e0_row3_col7\" class=\"data row3 col7\" >10:70:FD:E5:CD:D0</td>\n",
       "      <td id=\"T_f29e0_row3_col8\" class=\"data row3 col8\" >enp8s0np0</td>\n",
       "      <td id=\"T_f29e0_row3_col9\" class=\"data row3 col9\" >enp8s0np0</td>\n",
       "      <td id=\"T_f29e0_row3_col10\" class=\"data row3 col10\" >192.168.0.1</td>\n",
       "      <td id=\"T_f29e0_row3_col11\" class=\"data row3 col11\" >2</td>\n",
       "    </tr>\n",
       "    <tr>\n",
       "      <td id=\"T_f29e0_row4_col0\" class=\"data row4 col0\" >vpp-node-nic1-p2</td>\n",
       "      <td id=\"T_f29e0_row4_col1\" class=\"data row4 col1\" >p2</td>\n",
       "      <td id=\"T_f29e0_row4_col2\" class=\"data row4 col2\" >vpp-node</td>\n",
       "      <td id=\"T_f29e0_row4_col3\" class=\"data row4 col3\" >net2</td>\n",
       "      <td id=\"T_f29e0_row4_col4\" class=\"data row4 col4\" >100</td>\n",
       "      <td id=\"T_f29e0_row4_col5\" class=\"data row4 col5\" >auto</td>\n",
       "      <td id=\"T_f29e0_row4_col6\" class=\"data row4 col6\" ></td>\n",
       "      <td id=\"T_f29e0_row4_col7\" class=\"data row4 col7\" >10:70:FD:E5:CD:D1</td>\n",
       "      <td id=\"T_f29e0_row4_col8\" class=\"data row4 col8\" >enp9s0np0</td>\n",
       "      <td id=\"T_f29e0_row4_col9\" class=\"data row4 col9\" >enp9s0np0</td>\n",
       "      <td id=\"T_f29e0_row4_col10\" class=\"data row4 col10\" >192.168.1.2</td>\n",
       "      <td id=\"T_f29e0_row4_col11\" class=\"data row4 col11\" >2</td>\n",
       "    </tr>\n",
       "    <tr>\n",
       "      <td id=\"T_f29e0_row5_col0\" class=\"data row5 col0\" >vpp-node-FABNET_IPv4_AMST_nic-p1</td>\n",
       "      <td id=\"T_f29e0_row5_col1\" class=\"data row5 col1\" >p1</td>\n",
       "      <td id=\"T_f29e0_row5_col2\" class=\"data row5 col2\" >vpp-node</td>\n",
       "      <td id=\"T_f29e0_row5_col3\" class=\"data row5 col3\" >FABNET_IPv4_AMST</td>\n",
       "      <td id=\"T_f29e0_row5_col4\" class=\"data row5 col4\" >100</td>\n",
       "      <td id=\"T_f29e0_row5_col5\" class=\"data row5 col5\" >auto</td>\n",
       "      <td id=\"T_f29e0_row5_col6\" class=\"data row5 col6\" ></td>\n",
       "      <td id=\"T_f29e0_row5_col7\" class=\"data row5 col7\" >0E:EA:F8:31:B9:58</td>\n",
       "      <td id=\"T_f29e0_row5_col8\" class=\"data row5 col8\" >enp7s0</td>\n",
       "      <td id=\"T_f29e0_row5_col9\" class=\"data row5 col9\" >enp7s0</td>\n",
       "      <td id=\"T_f29e0_row5_col10\" class=\"data row5 col10\" >10.145.20.3</td>\n",
       "      <td id=\"T_f29e0_row5_col11\" class=\"data row5 col11\" >4</td>\n",
       "    </tr>\n",
       "  </tbody>\n",
       "</table>\n"
      ],
      "text/plain": [
       "<pandas.io.formats.style.Styler at 0x7f50dafb7d00>"
      ]
     },
     "metadata": {},
     "output_type": "display_data"
    },
    {
     "name": "stdout",
     "output_type": "stream",
     "text": [
      "\n",
      "Time to print interfaces 749 seconds\n"
     ]
    }
   ],
   "source": [
    "#Create Slice\n",
    "slice = fablib.new_slice(name=slice_name)\n",
    "\n",
    "# Network\n",
    "net1 = slice.add_l2network(name='net1', subnet=IPv4Network(\"192.168.0.0/24\"))\n",
    "net2 = slice.add_l2network(name='net2', subnet=IPv4Network(\"192.168.1.0/24\"))\n",
    "\n",
    "# pktgen_node\n",
    "pktgen_node = slice.add_node(name=pktgen_node_name, site=site, cores=8, ram=16, disk=20, image=image_name)\n",
    "pktgen_node.add_fabnet()\n",
    "pktgen_node_iface1, pktgen_node_iface2 = pktgen_node.add_component(model='NIC_ConnectX_6', name='nic1').get_interfaces()\n",
    "\n",
    "# vpp_node\n",
    "vpp_node = slice.add_node(name=vpp_node_name, site=site, cores=8, ram=16, disk=20, image=image_name)\n",
    "vpp_node.add_fabnet()\n",
    "vpp_node_iface1, vpp_node_iface2 = vpp_node.add_component(model='NIC_ConnectX_6', name='nic1').get_interfaces()\n",
    "\n",
    "pktgen_node_iface1.set_mode('auto')\n",
    "pktgen_node_iface2.set_mode('auto')\n",
    "vpp_node_iface1.set_mode('auto')\n",
    "vpp_node_iface2.set_mode('auto')\n",
    "\n",
    "net1.add_interface(pktgen_node_iface1)\n",
    "net1.add_interface(vpp_node_iface1)\n",
    "\n",
    "net2.add_interface(pktgen_node_iface2)\n",
    "net2.add_interface(vpp_node_iface2)\n",
    "\n",
    "pktgen_node.add_post_boot_upload_directory('pktgen-dpdk','.')\n",
    "vpp_node.add_post_boot_upload_directory('vpp','.')\n",
    "\n",
    "for n in slice.get_nodes():\n",
    "    n.add_post_boot_upload_directory('node_tools','.')\n",
    "    n.add_post_boot_execute('chmod +x node_tools/*')\n",
    "    n.add_post_boot_execute('sudo node_tools/enable_docker.sh {{ _self_.image }} ')\n",
    "\n",
    "#Submit Slice Request\n",
    "slice.submit();"
   ]
  },
  {
   "cell_type": "markdown",
   "id": "ee722dc9-5ed9-4850-b85e-07443015ef6c",
   "metadata": {},
   "source": [
    "## Verify connectivity between nodes on the local ethernet"
   ]
  },
  {
   "cell_type": "code",
   "execution_count": 8,
   "id": "ce31f4d1-f44d-4c7f-9a3a-7c5823202cf9",
   "metadata": {},
   "outputs": [
    {
     "name": "stdout",
     "output_type": "stream",
     "text": [
      "PING 192.168.0.2 (192.168.0.2): 56 data bytes\n",
      "64 bytes from 192.168.0.2: icmp_seq=0 ttl=64 time=0.304 ms\n",
      "64 bytes from 192.168.0.2: icmp_seq=1 ttl=64 time=0.173 ms\n",
      "64 bytes from 192.168.0.2: icmp_seq=2 ttl=64 time=0.204 ms\n",
      "64 bytes from 192.168.0.2: icmp_seq=3 ttl=64 time=0.145 ms\n",
      "64 bytes from 192.168.0.2: icmp_seq=4 ttl=64 time=0.175 ms\n",
      "--- 192.168.0.2 ping statistics ---\n",
      "5 packets transmitted, 5 packets received, 0% packet loss\n",
      "round-trip min/avg/max/stddev = 0.145/0.200/0.304/0.055 ms\n",
      "PING 192.168.1.1 (192.168.1.1): 56 data bytes\n",
      "64 bytes from 192.168.1.1: icmp_seq=0 ttl=64 time=0.413 ms\n",
      "64 bytes from 192.168.1.1: icmp_seq=1 ttl=64 time=0.143 ms\n",
      "64 bytes from 192.168.1.1: icmp_seq=2 ttl=64 time=0.136 ms\n",
      "64 bytes from 192.168.1.1: icmp_seq=3 ttl=64 time=0.148 ms\n",
      "64 bytes from 192.168.1.1: icmp_seq=4 ttl=64 time=0.139 ms\n",
      "--- 192.168.1.1 ping statistics ---\n",
      "5 packets transmitted, 5 packets received, 0% packet loss\n",
      "round-trip min/avg/max/stddev = 0.136/0.196/0.413/0.109 ms\n"
     ]
    }
   ],
   "source": [
    "vpp_node = slice.get_node(name=vpp_node_name)\n",
    "pktgen_node = slice.get_node(name=pktgen_node_name)\n",
    "\n",
    "\n",
    "pktgen_node_addr1 = pktgen_node.get_interface(network_name='net1').get_ip_addr()\n",
    "pktgen_node_addr2 = pktgen_node.get_interface(network_name='net2').get_ip_addr()\n",
    "\n",
    "\n",
    "stdout, stderr = vpp_node.execute(f'ping -c 5 {pktgen_node_addr1}')\n",
    "stdout, stderr = vpp_node.execute(f'ping -c 5 {pktgen_node_addr2}')"
   ]
  },
  {
   "cell_type": "markdown",
   "id": "88e45d43-b255-46b3-9d5a-4f7df15f23d5",
   "metadata": {},
   "source": [
    "## Start and configure VPP container"
   ]
  },
  {
   "cell_type": "code",
   "execution_count": 16,
   "id": "b9c260a9-7249-42bb-ab61-271e51a9dbf8",
   "metadata": {},
   "outputs": [
    {
     "name": "stdout",
     "output_type": "stream",
     "text": [
      "\u001b[31m unknown shorthand flag: 'q' in -q\n",
      " \u001b[0m"
     ]
    }
   ],
   "source": [
    "stdout, stderr = vpp_node.execute(f'cd vpp; docker compose up -d')"
   ]
  },
  {
   "cell_type": "code",
   "execution_count": 18,
   "id": "d1d8730e-769e-4b2e-94a9-b86cda1182d8",
   "metadata": {},
   "outputs": [
    {
     "name": "stdout",
     "output_type": "stream",
     "text": [
      "host-enp8s0np0\n",
      "host-enp9s0np0\n",
      "host-enp8s0np0 (up):\n",
      "  L3 192.168.0.2/24\n",
      "host-enp9s0np0 (up):\n",
      "  L3 192.168.1.2/24\n",
      "local0 (dn):\n"
     ]
    }
   ],
   "source": [
    "stdout, stderr = vpp_node.execute(f'cd vpp; docker compose exec vpp vppctl create host-interface name {vpp_node_iface1.get_device_name()}')\n",
    "stdout, stderr = vpp_node.execute(f'cd vpp; docker compose exec vpp vppctl set int ip address host-{vpp_node_iface1.get_device_name()} 192.168.0.2/24')\n",
    "stdout, stderr = vpp_node.execute(f'cd vpp; docker compose exec vpp vppctl set interface state host-{vpp_node_iface1.get_device_name()} up')\n",
    "stdout, stderr = vpp_node.execute(f'cd vpp; docker compose exec vpp vppctl create host-interface name {vpp_node_iface2.get_device_name()}')\n",
    "stdout, stderr = vpp_node.execute(f'cd vpp; docker compose exec vpp vppctl set int ip address host-{vpp_node_iface2.get_device_name()} 192.168.1.2/24')\n",
    "stdout, stderr = vpp_node.execute(f'cd vpp; docker compose exec vpp vppctl set interface state host-{vpp_node_iface2.get_device_name()} up')\n",
    "stdout, stderr = vpp_node.execute(f'cd vpp; docker compose exec vpp vppctl show interface address')"
   ]
  },
  {
   "cell_type": "markdown",
   "id": "8d056cd8-f92e-4a8e-898d-790236565862",
   "metadata": {},
   "source": [
    "## Configure MTU and firewall"
   ]
  },
  {
   "cell_type": "code",
   "execution_count": 15,
   "id": "0b2de691-dd66-4319-93c0-fd6a0788b8f9",
   "metadata": {},
   "outputs": [],
   "source": [
    "pktgen_node = slice.get_node(name=pktgen_node_name)\n",
    "vpp_node = slice.get_node(name=vpp_node_name)\n",
    "\n",
    "pktgen_node_iface1 = pktgen_node.get_interface(network_name='net1')\n",
    "pktgen_node_iface2 = pktgen_node.get_interface(network_name='net2')\n",
    "\n",
    "vpp_node_iface1 = vpp_node.get_interface(network_name='net1')\n",
    "vpp_node_iface2 = vpp_node.get_interface(network_name='net2')\n",
    "stdout, stderr = vpp_node.execute(f'sudo ifconfig {vpp_node_iface1.get_device_name()} mtu 9000')\n",
    "stdout, stderr = vpp_node.execute(f'sudo ifconfig {vpp_node_iface2.get_device_name()} mtu 9000')\n",
    "stdout, stderr = vpp_node.execute(f'sudo nft insert rule ip filter FORWARD iifname {vpp_node_iface1.get_device_name()} oifname {vpp_node_iface2.get_device_name()} accept')\n",
    "stdout, stderr = vpp_node.execute(f'sudo nft insert rule ip filter FORWARD iifname {vpp_node_iface2.get_device_name()} oifname {vpp_node_iface1.get_device_name()} accept')"
   ]
  },
  {
   "cell_type": "markdown",
   "id": "2871b5e8-2134-41aa-9688-876bdc0f8c15",
   "metadata": {},
   "source": [
    "## Pktgen-DPDK"
   ]
  },
  {
   "cell_type": "code",
   "execution_count": 21,
   "id": "c55f4f47-9bd0-4204-bd92-00348fb9c8c2",
   "metadata": {},
   "outputs": [
    {
     "name": "stdout",
     "output_type": "stream",
     "text": [
      "2048\n"
     ]
    }
   ],
   "source": [
    "stdout, stderr = pktgen_node.execute(f'echo 2048 | sudo tee /sys/kernel/mm/hugepages/hugepages-2048kB/nr_hugepages')\n",
    "stdout, stderr = pktgen_node.execute(f'cd pktgen-dpdk; docker compose build -q')"
   ]
  },
  {
   "cell_type": "markdown",
   "id": "611e7d6b-d284-48d2-a5c7-ba6dc7fa8478",
   "metadata": {},
   "source": [
    "### Start Pktgen Application on pktgen-node\n",
    "\n",
    "Open a SSH console for `pktgen-node` and start `pktgen` using the commands generated by the next cell:"
   ]
  },
  {
   "cell_type": "code",
   "execution_count": 22,
   "id": "e265c46c-2647-4270-90f8-ad20e9d1d848",
   "metadata": {},
   "outputs": [
    {
     "name": "stdout",
     "output_type": "stream",
     "text": [
      "Open a SSH console for pktgen-node using the command: ssh -i /home/fabric/work/fabric_config/slice_key -F /home/fabric/work/fabric_config/ssh_config ubuntu@2001:610:2d0:fabc:f816:3eff:fef3:b197\n"
     ]
    }
   ],
   "source": [
    "print(f\"Open a SSH console for {pktgen_node.get_name()} using the command: {pktgen_node.get_ssh_command()}\")"
   ]
  },
  {
   "cell_type": "code",
   "execution_count": 23,
   "id": "0e2e2f13-09bd-4db6-9539-7957b95cc80e",
   "metadata": {},
   "outputs": [
    {
     "name": "stdout",
     "output_type": "stream",
     "text": [
      "Start DPDK PKTGEN using the command: \n",
      "cd pktgen-dpdk\n",
      "docker compose run --rm pktgen-dpdk pktgen -a 0000:07:00.0 -a 0000:08:00.0  -l 0-4 -n 3 -- -m \"[1:3].0, [2:4].1\" -j\n"
     ]
    }
   ],
   "source": [
    "print(\"Start DPDK PKTGEN using the command: \")\n",
    "if \"rocky\" in pktgen_node.get_image():\n",
    "    print(\"export PKG_CONFIG_PATH=/usr/local/lib64/pkgconfig\")\n",
    "    print(\"cd Pktgen-DPDK\")\n",
    "else:\n",
    "    print(\"cd pktgen-dpdk\")\n",
    "print(f\"docker compose run --rm pktgen-dpdk pktgen -a {pktgen_node_iface1.get_component().get_pci_addr()[0]} -a {pktgen_node_iface2.get_component().get_pci_addr()[1]}  -l 0-4 -n 3 -- -m \\\"[1:3].0, [2:4].1\\\" -j\")"
   ]
  },
  {
   "cell_type": "markdown",
   "id": "1c5b027d-7ea6-481d-b731-dddd08ce6b0b",
   "metadata": {},
   "source": [
    "After Pktgen is brought up, set up Pktgen and start traffic by running the commands generated by the next cell:"
   ]
  },
  {
   "cell_type": "code",
   "execution_count": 24,
   "id": "53e8cc4d-5481-475a-b201-de3750819db1",
   "metadata": {},
   "outputs": [
    {
     "name": "stdout",
     "output_type": "stream",
     "text": [
      "set 0 proto udp\n",
      "set 0 size 9000\n",
      "set 0 src ip 192.168.0.2\n",
      "set 0 dst ip 192.168.1.1\n",
      "set 0 dst mac 10:70:fd:e5:cd:d0\n",
      "start 0\n",
      "enable 1 process\n"
     ]
    }
   ],
   "source": [
    "print(f\"set 0 proto udp\")\n",
    "print(\"set 0 size 9000\")\n",
    "print(f\"set 0 src ip {pktgen_node_iface1.get_ip_addr()}\")\n",
    "print(f\"set 0 dst ip {pktgen_node_iface2.get_ip_addr()}\")\n",
    "print(f\"set 0 dst mac {vpp_node_iface1.get_mac().lower()}\")\n",
    "print(\"start 0\")\n",
    "print(\"enable 1 process\")"
   ]
  },
  {
   "cell_type": "markdown",
   "id": "d29f72d9-a02b-4de0-baf8-28d34a07dad7",
   "metadata": {},
   "source": [
    "Pktgen-DPDK will start updating the statistics on the top of the page, where you can spot the transmitted rate (TX) on port 0 and the receive rate on port 1 (RX) on line 6 (MBits/s Rx/Tx). In the following example it’s transmitting 98.4 Gbps (100753 Mbps / 1024) and receiving only 17 Gbps (17468 Mbps / 1024) using the Linux datapath."
   ]
  },
  {
   "cell_type": "markdown",
   "id": "83d883c0-141e-44f0-be31-597beced1fe1",
   "metadata": {},
   "source": [
    "Keep Pktgen running since it will be used to check the throughput of the SmartNIC using offloads using RDMA and DPDK."
   ]
  },
  {
   "cell_type": "markdown",
   "id": "2464fc6c-ab78-4a63-89f2-d00030b2d21a",
   "metadata": {},
   "source": [
    "## Setting up the VPP SmartNIC with RDMA offload\n",
    "VPP provides a RDMA device driver[5], which uses RDMA APIs available on Nvidia ConnectX SmartNICS to offload Ethernet packets. To use it, the VPP container will be restarted to clean up the configurations and RDMA interfaces will be configured."
   ]
  },
  {
   "cell_type": "code",
   "execution_count": null,
   "id": "19e83c09-bc12-4497-8981-2833ee65d6d9",
   "metadata": {},
   "outputs": [
    {
     "name": "stdout",
     "output_type": "stream",
     "text": [
      "\u001b[31m  Container vpp-vpp-1  Restarting\n",
      " Container vpp-vpp-1  Started\n",
      " \u001b[0m"
     ]
    }
   ],
   "source": [
    "stdout, stderr = vpp_node.execute(f'cd vpp; docker compose restart')"
   ]
  },
  {
   "cell_type": "code",
   "execution_count": null,
   "id": "17d20d52-b897-460b-8b9a-1cf8c58ec247",
   "metadata": {},
   "outputs": [
    {
     "name": "stdout",
     "output_type": "stream",
     "text": [
      "local0 (dn):\n",
      "rdma-0 (up):\n",
      "  L3 192.168.0.1/24\n",
      "rdma-1 (up):\n",
      "  L3 192.168.1.2/24\n"
     ]
    }
   ],
   "source": [
    "stdout, stderr = vpp_node.execute(f'cd vpp; docker compose exec vpp vppctl create interface rdma host-if {vpp_node_iface1.get_device_name()} name rdma-0')\n",
    "stdout, stderr = vpp_node.execute(f'cd vpp; docker compose exec vpp vppctl set int ip address rdma-0 {vpp_node_iface1.get_ip_addr()}/24')\n",
    "stdout, stderr = vpp_node.execute(f'cd vpp; docker compose exec vpp vppctl set interface state rdma-0 up')\n",
    "stdout, stderr = vpp_node.execute(f'cd vpp; docker compose exec vpp vppctl create interface rdma host-if {vpp_node_iface2.get_device_name()} name rdma-1')\n",
    "stdout, stderr = vpp_node.execute(f'cd vpp; docker compose exec vpp vppctl set int ip address rdma-1 {vpp_node_iface2.get_ip_addr()}/24')\n",
    "stdout, stderr = vpp_node.execute(f'cd vpp; docker compose exec vpp vppctl set interface state rdma-1 up')\n",
    "stdout, stderr = vpp_node.execute(f'cd vpp; docker compose exec vpp vppctl show interface address')"
   ]
  },
  {
   "cell_type": "markdown",
   "id": "4529d164-b34b-4618-b2cb-16b9895d59ae",
   "metadata": {},
   "source": [
    "Now go back to Pktgen-DPDK and verify that the receiving rate has increased by a factor of approximately 2.6 times, to 44 Gbps (45348 Mbps / 1024)."
   ]
  },
  {
   "cell_type": "markdown",
   "id": "745acf07-4352-4d59-bcfe-0e870fcb8a56",
   "metadata": {},
   "source": [
    "## Setting up the VPP SmartNIC with DPDK offload"
   ]
  },
  {
   "cell_type": "code",
   "execution_count": 35,
   "id": "eb02baf6-fcf3-4dcf-aa23-e43abe9da346",
   "metadata": {},
   "outputs": [
    {
     "name": "stdout",
     "output_type": "stream",
     "text": [
      "2048\n",
      "\u001b[31m  Container vpp-vpp-1  Stopping\n",
      " Container vpp-vpp-1  Stopped\n",
      " Container vpp-vpp-1  Removing\n",
      " Container vpp-vpp-1  Removed\n",
      " \u001b[0m\u001b[31m  Container vpp-vpp-1  Creating\n",
      " Container vpp-vpp-1  Created\n",
      " Container vpp-vpp-1  Starting\n",
      " Container vpp-vpp-1  Started\n",
      " \u001b[0m"
     ]
    }
   ],
   "source": [
    "stdout, stderr = vpp_node.execute(f'echo 2048 | sudo tee /proc/sys/vm/nr_hugepages')\n",
    "stdout, stderr = vpp_node.execute(f'cd vpp; docker compose down')\n",
    "stdout, stderr = vpp_node.execute(f'cd vpp; docker compose -f compose.yaml up -d')"
   ]
  },
  {
   "cell_type": "code",
   "execution_count": 37,
   "id": "1dfa11b7-79a6-447a-a763-2c270d97db88",
   "metadata": {},
   "outputs": [
    {
     "name": "stdout",
     "output_type": "stream",
     "text": [
      "set interface ip address: failed to add 192.168.1.2/24 on HundredGigabitEthernet9/0/0 which conflicts with 192.168.1.2/24 for interface HundredGigabitEthernet9/0/0\n",
      "HundredGigabitEthernet7/0/0/4096 (dn):\n",
      "HundredGigabitEthernet8/0/0 (up):\n",
      "  L3 192.168.0.1/24\n",
      "HundredGigabitEthernet9/0/0 (up):\n",
      "  L3 192.168.1.2/24\n",
      "local0 (dn):\n"
     ]
    }
   ],
   "source": [
    "stdout, stderr = vpp_node.execute(f'cd vpp; docker compose exec vpp vppctl set int ip address HundredGigabitEthernet8/0/0 {vpp_node_iface1.get_ip_addr()}/24')\n",
    "stdout, stderr = vpp_node.execute(f'cd vpp; docker compose exec vpp vppctl set interface state HundredGigabitEthernet8/0/0 up')\n",
    "stdout, stderr = vpp_node.execute(f'cd vpp; docker compose exec vpp vppctl set int ip address HundredGigabitEthernet9/0/0 {vpp_node_iface2.get_ip_addr()}/24')\n",
    "stdout, stderr = vpp_node.execute(f'cd vpp; docker compose exec vpp vppctl set interface state HundredGigabitEthernet9/0/0 up')\n",
    "stdout, stderr = vpp_node.execute(f'cd vpp; docker compose exec vpp vppctl show interface address')"
   ]
  },
  {
   "cell_type": "markdown",
   "id": "5d1d9c18-e0f7-441f-8ef7-097fb708746c",
   "metadata": {},
   "source": [
    "Finally, go back to Pktgen-DPDK and verify that the receiving rate has increased again by a factor of approximately 5.8 times compared to the original test, to 99.2 Gbps (101543 Mbps / 1024)."
   ]
  },
  {
   "cell_type": "markdown",
   "id": "acb95eb0-70ae-487b-91d7-3740bf23b821",
   "metadata": {},
   "source": [
    "## Delete the Slice\n",
    "\n",
    "Please delete your slice when you are done with your experiment."
   ]
  },
  {
   "cell_type": "code",
   "execution_count": null,
   "id": "a5688713-e450-4354-bf9a-57382e2e2d83",
   "metadata": {},
   "outputs": [],
   "source": [
    "slice = fablib.get_slice(slice_name)\n",
    "slice.delete()"
   ]
  },
  {
   "cell_type": "code",
   "execution_count": null,
   "id": "9b1b597b-6ae2-4194-9986-a0c194e94b31",
   "metadata": {},
   "outputs": [],
   "source": []
  }
 ],
 "metadata": {
  "kernelspec": {
   "display_name": "Python 3 (ipykernel)",
   "language": "python",
   "name": "python3"
  },
  "language_info": {
   "codemirror_mode": {
    "name": "ipython",
    "version": 3
   },
   "file_extension": ".py",
   "mimetype": "text/x-python",
   "name": "python",
   "nbconvert_exporter": "python",
   "pygments_lexer": "ipython3",
   "version": "3.10.6"
  }
 },
 "nbformat": 4,
 "nbformat_minor": 5
}
